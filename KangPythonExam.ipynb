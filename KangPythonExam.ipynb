{
 "cells": [
  {
   "cell_type": "code",
   "execution_count": null,
   "metadata": {},
   "outputs": [],
   "source": [
    "#From the exam notes: \n",
    "#The genome of an organism consists of a very long sequence of nucleic acids. \n",
    "#From a computational perspective, this can be thought of as a long string of letters where the alphabet consists only of A, C, G, and T \n",
    "#(e.g. ATGTCTGTCTGTA) \n",
    "#This string can be divided into a substring of length k."
   ]
  },
  {
   "cell_type": "code",
   "execution_count": 60,
   "metadata": {},
   "outputs": [
    {
     "name": "stdout",
     "output_type": "stream",
     "text": [
      "AT 1\n",
      "TG 3\n",
      "GT 3\n",
      "TC 2\n",
      "CT 2\n",
      "The total number of unique observed substrings is 5\n"
     ]
    }
   ],
   "source": [
    "#Part 1: \n",
    "#Start by counting the number of different observed substrings of size 2 in the example\n",
    "\n",
    "examplestring = 'ATGTCTGTCTGT'\n",
    "n = 2 #length of substring\n",
    "substring = {} #empty dict to store substring sequences and their counts\n",
    "\n",
    "for i in range(0,len(examplestring) - (n-1)): #i = any starting point in the original sequence from which a full subsequence can be completed\n",
    "    subseq = examplestring[i:i+n] #any two-character long subsequence that can be found in original sequence\n",
    "    if subseq in substring: \n",
    "        substring[subseq] += 1 #if the subsequence is already in the dict substring then add a count\n",
    "    else: \n",
    "        substring[subseq] = 1 #if the subsequence isn't in the dict substring then add it\n",
    "\n",
    "for seq, count in substring.items(): #for the key and count in the dict substring, print \"key, count\"\n",
    "    print(seq, count)\n",
    "\n",
    "# It took me until the end of the exam to realize I wanted a count of how many unique substrings occured for the parameters given; TIME TO FIX EVERYTHING\n",
    "print(\"The total number of unique observed substrings is \" + str(len(substring))) "
   ]
  },
  {
   "cell_type": "code",
   "execution_count": 67,
   "metadata": {},
   "outputs": [
    {
     "name": "stdout",
     "output_type": "stream",
     "text": [
      "ATGTCTG 1\n",
      "TGTCTGT 2\n",
      "GTCTGTC 1\n",
      "TCTGTCT 1\n",
      "CTGTCTG 1\n",
      "The total number of unique observed substrings is 5\n"
     ]
    }
   ],
   "source": [
    "#Extend this work to count the number of different observed substrings of any size, specified as k\n",
    "\n",
    "examplestring = 'ATGTCTGTCTGT'\n",
    "k = 7 #example substring length so I can test script\n",
    "n = k #length of substring\n",
    "substring = {} #empty dict to store substring sequences and their counts\n",
    "\n",
    "for i in range(0,len(examplestring) - (n-1)): #i = any starting point in the original sequence from which a full subsequence can be completed\n",
    "    subseq = examplestring[i:i+n] #any k long subsequence that can be found in original sequence\n",
    "    if subseq in substring: \n",
    "        substring[subseq] += 1 #if the subsequence is already in the dict substring then add a count\n",
    "    else: \n",
    "        substring[subseq] = 1 #if the subsequence isn't in the dict substring then add it\n",
    "\n",
    "for seq, count in substring.items(): #for the key and count in the dict substring, print \"key, count\"\n",
    "    print(seq, count)\n",
    "    \n",
    "print(\"The total number of unique observed substrings is \" + str(len(substring))) "
   ]
  },
  {
   "cell_type": "code",
   "execution_count": 68,
   "metadata": {},
   "outputs": [
    {
     "name": "stdout",
     "output_type": "stream",
     "text": [
      "A 1\n",
      "AT 1\n",
      "ATG 1\n",
      "ATGT 1\n",
      "ATGTC 1\n",
      "ATGTCT 1\n",
      "ATGTCTG 1\n",
      "ATGTCTGT 1\n",
      "ATGTCTGTC 1\n",
      "ATGTCTGTCT 1\n",
      "ATGTCTGTCTG 1\n",
      "ATGTCTGTCTGT 1\n",
      "T 6\n",
      "TG 3\n",
      "TGT 3\n",
      "TGTC 2\n",
      "TGTCT 2\n",
      "TGTCTG 2\n",
      "TGTCTGT 2\n",
      "TGTCTGTC 1\n",
      "TGTCTGTCT 1\n",
      "TGTCTGTCTG 1\n",
      "TGTCTGTCTGT 1\n",
      "G 3\n",
      "GT 3\n",
      "GTC 2\n",
      "GTCT 2\n",
      "GTCTG 2\n",
      "GTCTGT 2\n",
      "GTCTGTC 1\n",
      "GTCTGTCT 1\n",
      "GTCTGTCTG 1\n",
      "GTCTGTCTGT 1\n",
      "TC 2\n",
      "TCT 2\n",
      "TCTG 2\n",
      "TCTGT 2\n",
      "TCTGTC 1\n",
      "TCTGTCT 1\n",
      "TCTGTCTG 1\n",
      "TCTGTCTGT 1\n",
      "C 2\n",
      "CT 2\n",
      "CTG 2\n",
      "CTGT 2\n",
      "CTGTC 1\n",
      "CTGTCT 1\n",
      "CTGTCTG 1\n",
      "CTGTCTGT 1\n",
      "The total number of unique observed substrings is 49\n"
     ]
    }
   ],
   "source": [
    "#Extend this work to count the number of different observed substrings of all possible sizes\n",
    "\n",
    "examplestring = 'ATGTCTGTCTGT'\n",
    "\n",
    "substring = {} #empty dict to store substring sequences and their counts\n",
    "\n",
    "for start in range(0,len(examplestring)+1): \n",
    "#start = any starting point in the original sequence; add 1 to string length in range so the last character doesn't get cut off\n",
    "    for end in range(start+1,len(examplestring)+1): #end = any end point in original sequence\n",
    "        #added +1 to start of range bc it kept counting blank spaces as subsequences otherwise?\n",
    "        #added +1 to end of range so last character doesn't get cut off\n",
    "        subseq = examplestring[start:end] #any subsequence that can be found between starting or ending point in original sequence\n",
    "        if subseq in substring: \n",
    "            substring[subseq] += 1 #if the subsequence is already in the dict substring then add a count\n",
    "        else: \n",
    "            substring[subseq] = 1 #if the subsequence isn't in the dict substring then add it\n",
    "\n",
    "for seq, count in substring.items(): #for the key and count in the dict substring, print \"key, count\"\n",
    "    print(seq, count)\n",
    "    \n",
    "print(\"The total number of unique observed substrings is \" + str(len(substring))) "
   ]
  },
  {
   "cell_type": "code",
   "execution_count": 80,
   "metadata": {},
   "outputs": [
    {
     "name": "stdout",
     "output_type": "stream",
     "text": [
      "11\n",
      "11\n"
     ]
    }
   ],
   "source": [
    "# Start by determining the number of possible different substrings of size 2\n",
    "\n",
    "# aka how many unique 2-length substrings are possible for a string length of 12 with 4 possible characters? \n",
    "# equation for possible number of unique substrings (p) of any length (k) for a string of N length is: \n",
    "    # possible number of substrings for any substring length = string length - (substring length - 1) or \n",
    "    # p = N - (k-1)\n",
    "# So for the example string 'ATGTCTGTCTGT'\n",
    "    # N = 12\n",
    "# if n = 2 then p = 9\n",
    "\n",
    "examplestring = 'ATGTCTGTCTGT'\n",
    "N = len(examplestring) \n",
    "k = 2 \n",
    "p = N - (k-1)\n",
    "\n",
    "print(p)\n",
    "\n",
    "#It took me until the end of the exam to realize that this is just the sum of all values in a dict of unique substrings and how many times they occur\n",
    "#ALTERNATIVELY just use the sum function to add together all values in dict substrings for the k value you're using\n",
    "\n",
    "substring = {} #empty dict to store substring sequences and their counts\n",
    "\n",
    "for i in range(0,len(examplestring) - (k-1)): #i = any starting point in the original sequence from which a full subsequence can be completed\n",
    "    subseq = examplestring[i:i+k] #any k long subsequence that can be found in original sequence\n",
    "    if subseq in substring: \n",
    "        substring[subseq] += 1 #if the subsequence is already in the dict substring then add a count\n",
    "    else: \n",
    "        substring[subseq] = 1 #if the subsequence isn't in the dict substring then add it\n",
    "\n",
    "print(sum(substring.values()))"
   ]
  },
  {
   "cell_type": "code",
   "execution_count": 70,
   "metadata": {},
   "outputs": [
    {
     "name": "stdout",
     "output_type": "stream",
     "text": [
      "6\n"
     ]
    }
   ],
   "source": [
    "# Extend this work to count the number of possible substrings of any size, specified as k, \n",
    "# keep in mind the number of possible substrings (usually 4^k) is limited by the length of the sequence \n",
    "#(i.e. the number of possible k-mers of length 9 in a sequence of length 9 is 1, not 4^9)\n",
    "\n",
    "examplestring = 'ATGTCTGTCTGT'\n",
    "N = len(examplestring) \n",
    "k = 7 #example k I'm using to test this script\n",
    "p = N - (k-1)\n",
    "\n",
    "print(p)"
   ]
  },
  {
   "cell_type": "code",
   "execution_count": 85,
   "metadata": {},
   "outputs": [
    {
     "name": "stdout",
     "output_type": "stream",
     "text": [
      "5\n"
     ]
    }
   ],
   "source": [
    "# Part 2: Observed substrings\n",
    "# Testing the function with previous example string, will write in file import and read function in py script file\n",
    "\n",
    "seqfile = 'ATGTCTGTCTGT' #where I'd import sequence file data\n",
    "substring = {} #empty dict to store substring sequences and their counts\n",
    "\n",
    "# 1. Define a function to count observed substrings of size k, where k is specified as an argument.\n",
    "\n",
    "k = 2 #example k used to test script, same k as that used in Part 1 so I can see if the numbers match\n",
    "for i in range(0,len(seqfile) - (k-1)): #i = any starting point in the original sequence from which a full subsequence can be completed\n",
    "    subseq = seqfile[i:i+k] #any k long subsequence that can be found in original sequence\n",
    "    if subseq in substring: \n",
    "        substring[subseq] += 1 #if the subsequence is already in the dict substring then add a count\n",
    "    else: \n",
    "        substring[subseq] = 1 #if the subsequence isn't in the dict substring then add it\n",
    "\n",
    "obs_sum = len(substring) #count of all unique substrings in dict\n",
    "print(obs_sum) #should match earlier output where all values summed to 5"
   ]
  },
  {
   "cell_type": "code",
   "execution_count": 86,
   "metadata": {},
   "outputs": [
    {
     "name": "stdout",
     "output_type": "stream",
     "text": [
      "11\n",
      "11\n"
     ]
    }
   ],
   "source": [
    "# Part 2: Possible substrings \n",
    "\n",
    "seqfile = 'ATGTCTGTCTGT' #where I'd import sequence file data\n",
    "substring = {} #empty dict to store substring sequences and their counts\n",
    "\n",
    "# 2. Define a function to count possible substrings of size k, where k is specified as an argument.\n",
    "\n",
    "k = 2 #example k used to test script, same k as that used in Part 1 so I can see if the numbers match\n",
    "for i in range(0,len(seqfile) - (k-1)): #i = any starting point in the original sequence from which a full subsequence can be completed\n",
    "    subseq = seqfile[i:i+k] #any k long subsequence that can be found in original sequence\n",
    "    if subseq in substring: \n",
    "        substring[subseq] += 1 #if the subsequence is already in the dict substring then add a count\n",
    "    else: \n",
    "        substring[subseq] = 1 #if the subsequence isn't in the dict substring then add it\n",
    "\n",
    "pos_sum = sum(substring.values()) #sum of all values in substring aka count of all possible substrings\n",
    "print(pos_sum) #should match earlier output where all values summed to 11\n",
    "\n",
    "# double check with equation I came up with earlier before I realized what was going on\n",
    "\n",
    "N = len(seqfile) \n",
    "p = N - (k-1)\n",
    "print(p)"
   ]
  },
  {
   "cell_type": "code",
   "execution_count": 91,
   "metadata": {},
   "outputs": [
    {
     "name": "stdout",
     "output_type": "stream",
     "text": [
      "The linguistic complexity of this sequence is 0.6282051282051282\n",
      "The total number of unique observed substrings is 49 and number of unique possible substrings is 78\n"
     ]
    }
   ],
   "source": [
    "# Part 2: Observed/Possible\n",
    "\n",
    "seqfile = 'ATGTCTGTCTGT' #where I'd import sequence file data\n",
    "substring = {} #empty dict to store substring sequences and their counts\n",
    "\n",
    "# 3. Define a function to calculate linguistic complexity that uses functions 1 and 2.\n",
    "\n",
    "for start in range(0,len(seqfile)+1): \n",
    "#start = any starting point in the original sequence; add 1 to string length in range so the last character doesn't get cut off\n",
    "    for end in range(start+1,len(seqfile)+1): #end = any end point in original sequence\n",
    "        #added +1 to start of range bc it kept counting blank spaces as subsequences otherwise?\n",
    "        #added +1 to end of range so last character doesn't get cut off\n",
    "        subseq = examplestring[start:end] #any subsequence that can be found between starting or ending point in original sequence\n",
    "        if subseq in substring: \n",
    "            substring[subseq] += 1 #if the subsequence is already in the dict substring then add a count\n",
    "        else: \n",
    "            substring[subseq] = 1 #if the subsequence isn't in the dict substring then add it\n",
    "\n",
    "obs_sum = len(substring) #count of all unique substrings in dict aka number of unique substrings observed\n",
    "pos_sum = sum(substring.values()) #sum of all substring occurences in dict aka number of unique substrings possible\n",
    "lcomp = obs_sum/pos_sum # linguistic complexity calculation\n",
    "\n",
    "print(\"The linguistic complexity of this sequence is \" + str(lcomp))\n",
    "print(\"The total number of unique observed substrings is \" + str(obs_sum) + \" and number of unique possible substrings is \" + str(pos_sum))\n"
   ]
  }
 ],
 "metadata": {
  "kernelspec": {
   "display_name": "Python 3",
   "language": "python",
   "name": "python3"
  },
  "language_info": {
   "codemirror_mode": {
    "name": "ipython",
    "version": 3
   },
   "file_extension": ".py",
   "mimetype": "text/x-python",
   "name": "python",
   "nbconvert_exporter": "python",
   "pygments_lexer": "ipython3",
   "version": "3.6.8"
  }
 },
 "nbformat": 4,
 "nbformat_minor": 4
}
